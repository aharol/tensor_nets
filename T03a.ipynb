{
 "cells": [
  {
   "cell_type": "code",
   "execution_count": 1,
   "id": "60a0f712",
   "metadata": {},
   "outputs": [],
   "source": [
    "import numpy as np"
   ]
  },
  {
   "cell_type": "markdown",
   "id": "bd2f698b",
   "metadata": {},
   "source": [
    "# Generate a random MPS"
   ]
  },
  {
   "cell_type": "code",
   "execution_count": 2,
   "id": "d474e846",
   "metadata": {},
   "outputs": [],
   "source": [
    "def random_mps(num_sites, local_dim, bond_dim, seed=31415):\n",
    "    \"\"\"\n",
    "    Function to generate a random MPS\n",
    "    The left and right most legs are dummy legs of dimension 1.\n",
    "    They are included to insure that all tensors are rank-3.\n",
    "    \"\"\"\n",
    "    np.random.seed(seed)\n",
    "\n",
    "    assert num_sites > 2, 'The number of site should be > 2'\n",
    "        \n",
    "    mps = []\n",
    "    for i in range(num_sites):\n",
    "        if i == 0:\n",
    "            M = np.random.rand(1, local_dim, bond_dim)\n",
    "        elif i == num_sites-1:\n",
    "            M = np.random.rand(bond_dim, local_dim, 1)\n",
    "        else:\n",
    "            M = np.random.rand(bond_dim, local_dim, bond_dim)\n",
    "        mps.append(M)\n",
    "    return mps"
   ]
  },
  {
   "cell_type": "code",
   "execution_count": 3,
   "id": "61cfd56c",
   "metadata": {},
   "outputs": [
    {
     "name": "stdout",
     "output_type": "stream",
     "text": [
      "Number of sites : 50\n",
      "Dimensions of the first, second and the last tensors: (1, 4, 30), (30, 4, 30), (30, 4, 1)\n"
     ]
    }
   ],
   "source": [
    "N = 50   # number of sites\n",
    "d = 4    # local space dimenision\n",
    "D = 30   # bond dimension\n",
    "seed = 7 # random seed\n",
    "\n",
    "mps = random_mps(N, d, D, seed)\n",
    "\n",
    "print('Number of sites : %d' % len(mps))\n",
    "print('Dimensions of the first, second and the last tensors: %s, %s, %s'\\\n",
    "      % (mps[0].shape, mps[1].shape, mps[-1].shape))"
   ]
  },
  {
   "attachments": {
    "0a436693-90c5-4dee-b282-566cfc1d2e1b.png": {
     "image/png": "[encoded data removed]"
    }
   },
   "cell_type": "markdown",
   "id": "bedab126",
   "metadata": {},
   "source": [
    "<center>\n",
    "    <img src=\"attachment:0a436693-90c5-4dee-b282-566cfc1d2e1b.png\" width=\"400\" height=\"400\"/>\n",
    "</center>"
   ]
  },
  {
   "cell_type": "markdown",
   "id": "18242ecb",
   "metadata": {},
   "source": [
    "# Utility function to check if a MPS is properly normalized"
   ]
  },
  {
   "cell_type": "code",
   "execution_count": 4,
   "id": "741b10ed",
   "metadata": {},
   "outputs": [],
   "source": [
    "def is_normalized(mps, normalization, tol=1e-10, verbose=False):\n",
    "    \n",
    "    assert normalization in ('left', 'right'), f'Unknown normalization {normalization}'\n",
    "    \n",
    "    bad_sites = {}\n",
    "    \n",
    "    N = len(mps)\n",
    "    \n",
    "    for i in range(N):\n",
    "        A = mps[i]\n",
    "        u, v, w = A.shape\n",
    "        if normalization == \"right\":\n",
    "            A = A.reshape(u, -1) \n",
    "        else:\n",
    "            A = A.reshape(-1, w)\n",
    "            A = A.T\n",
    "        delta = np.max(abs(A @ A.T - np.eye(A.shape[0]))).reshape(-1,1)\n",
    "        if  delta > tol:\n",
    "            bad_sites[i] = delta\n",
    "\n",
    "    if bad_sites:\n",
    "        if verbose:\n",
    "            for i,tol in bad_sites.items():\n",
    "                print(f'Bad approximation for {i}-th site - {delta.item()}')\n",
    "        return False\n",
    "    else:\n",
    "        print('You MPS is normalized correctly')\n",
    "    \n",
    "    return True        "
   ]
  },
  {
   "cell_type": "markdown",
   "id": "771ecc69",
   "metadata": {},
   "source": [
    "# Transform to left-canonical form"
   ]
  },
  {
   "cell_type": "code",
   "execution_count": 5,
   "id": "80ad5a76",
   "metadata": {},
   "outputs": [],
   "source": [
    "def left_normalize(mps, idx=-1, D_max=np.inf, verbose=False):\n",
    "    \"\"\"\n",
    "    In place normalization of an MPS to left canonical form\n",
    "    \n",
    "    Input:\n",
    "    ------\n",
    "        mps:    A list of tensors representing an MPS.\n",
    "        idx:    A site index which is used to stop the propagation of the normalization.\n",
    "                Default values: -1. A full right sweep will be perfomed.\n",
    "        \n",
    "    \"\"\"\n",
    "    # length of the MPS\n",
    "    N = len(mps)\n",
    "    \n",
    "    # determine where to stop\n",
    "    if idx == -1:\n",
    "        stop = N\n",
    "    else:\n",
    "        assert 0 < idx < N-1, 'The stoping site index must be 0 < idx < N-1'\n",
    "        stop = idx\n",
    "\n",
    "    assert D_max > 0, 'Please, specify a correct D_max'\n",
    "      \n",
    "    if verbose:\n",
    "        print(f'Performing left normalization for sites {list(range(stop))}')\n",
    "        \n",
    "    for i in range(stop):\n",
    "        # get the current tensor\n",
    "        M = mps[i]\n",
    "        # reshape into a matrix by merging left/bottom legs\n",
    "        u,v,w = M.shape\n",
    "        M = M.reshape(u*v, w)\n",
    "        # perform SVD\n",
    "        U, s, Vh = np.linalg.svd(M, full_matrices=False)\n",
    "        # assign the current tensor to U and reshape\n",
    "        mps[i] = U.reshape(U.shape[0] // v, v, U.shape[1])\n",
    "        if i < N:\n",
    "            M_next = mps[i+1].reshape(Vh.shape[1], -1)\n",
    "            mps[i+1] = (np.diag(s) @ Vh @ M_next).reshape(U.shape[1], v, -1)\n",
    "    \n",
    "    return"
   ]
  },
  {
   "cell_type": "code",
   "execution_count": 6,
   "id": "f43a9eb5",
   "metadata": {
    "tags": []
   },
   "outputs": [],
   "source": [
    "N = 5   # number of sites\n",
    "d = 4    # local space dimenision\n",
    "D = 30   # bond dimension\n",
    "seed = 7 # random seed\n",
    "\n",
    "mps = random_mps(N, d, D, seed)"
   ]
  },
  {
   "cell_type": "code",
   "execution_count": 7,
   "id": "45b3bf9f",
   "metadata": {},
   "outputs": [
    {
     "name": "stdout",
     "output_type": "stream",
     "text": [
      "[(1, 4, 30), (30, 4, 30), (30, 4, 30), (30, 4, 30), (30, 4, 1)]\n"
     ]
    }
   ],
   "source": [
    "print(list(map(np.shape, mps)))"
   ]
  },
  {
   "cell_type": "code",
   "execution_count": 8,
   "id": "98e2bd1a",
   "metadata": {
    "tags": []
   },
   "outputs": [
    {
     "name": "stdout",
     "output_type": "stream",
     "text": [
      "Performing left normalization for sites [0, 1, 2]\n"
     ]
    }
   ],
   "source": [
    "left_normalize(mps, 3, verbose=True)"
   ]
  },
  {
   "cell_type": "code",
   "execution_count": 9,
   "id": "1dc585f1",
   "metadata": {},
   "outputs": [
    {
     "name": "stdout",
     "output_type": "stream",
     "text": [
      "Bad approximation for 3-th site - 36.63108505855951\n",
      "Bad approximation for 4-th site - 36.63108505855951\n"
     ]
    },
    {
     "data": {
      "text/plain": [
       "False"
      ]
     },
     "execution_count": 9,
     "metadata": {},
     "output_type": "execute_result"
    }
   ],
   "source": [
    "is_normalized(mps, normalization='left', verbose=True)"
   ]
  },
  {
   "cell_type": "code",
   "execution_count": 10,
   "id": "b9c9829f",
   "metadata": {},
   "outputs": [
    {
     "name": "stdout",
     "output_type": "stream",
     "text": [
      "Resulting MPS:\n",
      " [(1, 4, 4), (4, 4, 16), (16, 4, 30), (30, 4, 30), (30, 4, 1)]\n"
     ]
    }
   ],
   "source": [
    "print('Resulting MPS:\\n', list(map(np.shape, mps)))"
   ]
  },
  {
   "cell_type": "markdown",
   "id": "9b6257dc",
   "metadata": {},
   "source": [
    "# Transform to right-canonical form"
   ]
  },
  {
   "cell_type": "code",
   "execution_count": 11,
   "id": "fb1ba2ff",
   "metadata": {},
   "outputs": [],
   "source": [
    "def right_normalize(mps, idx=-1, D_max=np.inf, verbose=False):\n",
    "    \"\"\"\n",
    "    In place normalization of an MPS to right canonical form\n",
    "    \n",
    "    Input:\n",
    "    ------\n",
    "        mps:    A list of tensors representing an MPS.\n",
    "        idx:    A site index which is used to stop the propagation of the normalization.\n",
    "                Default values: -1. A full left sweep will be perfomed.\n",
    "        \n",
    "    \"\"\"\n",
    "    # length of the MPS\n",
    "    N = len(mps)\n",
    "    \n",
    "    # assertions\n",
    "    if idx == -1:\n",
    "        stop = 0\n",
    "    else:\n",
    "        assert 0 < idx < N-1, 'The stoping index must be 0 < idx < N-1'\n",
    "        stop = idx\n",
    "    \n",
    "    assert D_max > 0, 'Please, specify a correct D_max'\n",
    "    \n",
    "    # determine where to stop\n",
    "    stop = idx\n",
    "    \n",
    "    if verbose:\n",
    "        print(f'Performing right normalization for sites {list(range(N-1, stop, -1))}')\n",
    "\n",
    "    for i in range(N-1, stop, -1):\n",
    "        M = mps[i]\n",
    "        u,v,w = M.shape\n",
    "        M = M.reshape(u, v*w)\n",
    "        U, s, Vh = np.linalg.svd(M, full_matrices=False)\n",
    "        \n",
    "        mps[i] = Vh.reshape(Vh.shape[0], v, Vh.shape[1] // v)\n",
    "        if i > 0:\n",
    "            M_new = mps[i-1].reshape(-1, U.shape[0])\n",
    "            mps[i-1] = (M_new @ U @ np.diag(s)).reshape(-1, v, Vh.shape[0])    \n",
    "\n",
    "    return"
   ]
  },
  {
   "cell_type": "code",
   "execution_count": 12,
   "id": "f34b8041",
   "metadata": {},
   "outputs": [],
   "source": [
    "N = 5   # number of sites\n",
    "d = 4    # local space dimenision\n",
    "D = 30   # bond dimension\n",
    "seed = 70 # random seed\n",
    "\n",
    "mps = random_mps(N, d, D, seed)"
   ]
  },
  {
   "cell_type": "code",
   "execution_count": 13,
   "id": "ee41d273",
   "metadata": {},
   "outputs": [
    {
     "name": "stdout",
     "output_type": "stream",
     "text": [
      "Performing right normalization for sites [4]\n"
     ]
    }
   ],
   "source": [
    "right_normalize(mps, 3, verbose=True)"
   ]
  },
  {
   "cell_type": "code",
   "execution_count": 14,
   "id": "b6b10c87",
   "metadata": {},
   "outputs": [
    {
     "name": "stdout",
     "output_type": "stream",
     "text": [
      "Bad approximation for 0-th site - 1.1102230246251565e-15\n",
      "Bad approximation for 1-th site - 1.1102230246251565e-15\n",
      "Bad approximation for 2-th site - 1.1102230246251565e-15\n",
      "Bad approximation for 3-th site - 1.1102230246251565e-15\n"
     ]
    },
    {
     "data": {
      "text/plain": [
       "False"
      ]
     },
     "execution_count": 14,
     "metadata": {},
     "output_type": "execute_result"
    }
   ],
   "source": [
    "is_normalized(mps, normalization='right', verbose=True)"
   ]
  },
  {
   "cell_type": "code",
   "execution_count": 15,
   "id": "39025c5b",
   "metadata": {},
   "outputs": [
    {
     "data": {
      "text/plain": [
       "[(1, 4, 30), (30, 4, 30), (30, 4, 30), (30, 4, 4), (4, 4, 1)]"
      ]
     },
     "execution_count": 15,
     "metadata": {},
     "output_type": "execute_result"
    }
   ],
   "source": [
    "list(map(np.shape, mps))"
   ]
  },
  {
   "cell_type": "markdown",
   "id": "65a1df34",
   "metadata": {},
   "source": [
    "# Transform to site canonical form"
   ]
  },
  {
   "cell_type": "code",
   "execution_count": 16,
   "id": "dc978b1e",
   "metadata": {},
   "outputs": [],
   "source": [
    "def site_normalize(mps, idx, D_max=np.inf, verbose=False):\n",
    "    \"\"\"\n",
    "    In-place normalization of an MPS to site canonical form\n",
    "    \"\"\"\n",
    "    left_normalize(mps, idx, D_max, verbose)\n",
    "    right_normalize(mps, idx, D_max, verbose)\n",
    "\n",
    "    return"
   ]
  },
  {
   "cell_type": "code",
   "execution_count": 17,
   "id": "cf7f16d1",
   "metadata": {},
   "outputs": [],
   "source": [
    "N = 5   # number of sites\n",
    "d = 4    # local space dimenision\n",
    "D = 30   # bond dimension\n",
    "seed = 70 # random seed\n",
    "\n",
    "mps = random_mps(N, d, D, seed)"
   ]
  },
  {
   "cell_type": "code",
   "execution_count": 18,
   "id": "751ebc96",
   "metadata": {},
   "outputs": [
    {
     "name": "stdout",
     "output_type": "stream",
     "text": [
      "Performing left normalization for sites [0, 1, 2]\n",
      "Performing right normalization for sites [4]\n"
     ]
    }
   ],
   "source": [
    "site_normalize(mps, 3, verbose=True)"
   ]
  },
  {
   "cell_type": "code",
   "execution_count": 19,
   "id": "2a1a57bb",
   "metadata": {},
   "outputs": [
    {
     "name": "stdout",
     "output_type": "stream",
     "text": [
      "Bad approximation for 3-th site - 3.0000000000000018\n",
      "Bad approximation for 4-th site - 3.0000000000000018\n"
     ]
    },
    {
     "data": {
      "text/plain": [
       "False"
      ]
     },
     "execution_count": 19,
     "metadata": {},
     "output_type": "execute_result"
    }
   ],
   "source": [
    "is_normalized(mps, 'left', verbose=True)"
   ]
  },
  {
   "cell_type": "code",
   "execution_count": 20,
   "id": "24e327fa",
   "metadata": {},
   "outputs": [
    {
     "name": "stdout",
     "output_type": "stream",
     "text": [
      "Bad approximation for 0-th site - 1.1102230246251565e-15\n",
      "Bad approximation for 1-th site - 1.1102230246251565e-15\n",
      "Bad approximation for 2-th site - 1.1102230246251565e-15\n",
      "Bad approximation for 3-th site - 1.1102230246251565e-15\n"
     ]
    },
    {
     "data": {
      "text/plain": [
       "False"
      ]
     },
     "execution_count": 20,
     "metadata": {},
     "output_type": "execute_result"
    }
   ],
   "source": [
    "is_normalized(mps, 'right', verbose=True)"
   ]
  },
  {
   "cell_type": "markdown",
   "id": "9b0a5932",
   "metadata": {},
   "source": [
    "# Transform to bond-canonical form"
   ]
  },
  {
   "cell_type": "code",
   "execution_count": 21,
   "id": "bc125acf",
   "metadata": {},
   "outputs": [],
   "source": [
    "N = 5   # number of sites\n",
    "d = 4    # local space dimenision\n",
    "D = 30   # bond dimension\n",
    "seed = 70 # random seed\n",
    "\n",
    "mps = random_mps(N, d, D, seed)"
   ]
  },
  {
   "cell_type": "code",
   "execution_count": 22,
   "id": "aa849a87",
   "metadata": {},
   "outputs": [],
   "source": [
    "def bond_normalize(mps, idx, D_max=np.inf, verbose=False):\n",
    "    \"\"\"\n",
    "    In-place normalization of an MPS to bond canonical form\n",
    "    \"\"\"\n",
    "    left_normalize(mps, idx, D_max, verbose)\n",
    "    right_normalize(mps, idx, D_max, verbose)\n",
    "    \n",
    "    M = mps[idx]\n",
    "    u,v,w = M.shape\n",
    "    M = M.reshape(u*v,w)\n",
    "    # perform SVD\n",
    "    U, s, Vh = np.linalg.svd(M, full_matrices=False)\n",
    "\n",
    "    mps[idx] = U.reshape(U.shape[0] // v, v, U.shape[1])\n",
    "\n",
    "    M_next = mps[idx+1].reshape(Vh.shape[1], -1)\n",
    "    mps[idx+1] = (Vh @ M_next).reshape(Vh.shape[0],v,-1)\n",
    "\n",
    "    return s, (idx, idx+1)"
   ]
  },
  {
   "cell_type": "code",
   "execution_count": 23,
   "id": "5ae98702",
   "metadata": {},
   "outputs": [],
   "source": [
    "s, (left_idx, right_idx) = bond_normalize(mps, 2)"
   ]
  },
  {
   "cell_type": "code",
   "execution_count": 24,
   "id": "a9e17197",
   "metadata": {},
   "outputs": [
    {
     "name": "stdout",
     "output_type": "stream",
     "text": [
      "[(1, 4, 4), (4, 4, 16), (16, 4, 16), (16, 4, 4), (4, 4, 1)]\n"
     ]
    }
   ],
   "source": [
    "print(list(map(np.shape, mps)))"
   ]
  },
  {
   "cell_type": "code",
   "execution_count": 25,
   "id": "17e311bc",
   "metadata": {},
   "outputs": [
    {
     "name": "stdout",
     "output_type": "stream",
     "text": [
      "Bad approximation for 0-th site - 1.1102230246251565e-15\n",
      "Bad approximation for 1-th site - 1.1102230246251565e-15\n",
      "Bad approximation for 2-th site - 1.1102230246251565e-15\n"
     ]
    },
    {
     "data": {
      "text/plain": [
       "False"
      ]
     },
     "execution_count": 25,
     "metadata": {},
     "output_type": "execute_result"
    }
   ],
   "source": [
    "is_normalized(mps, 'right', verbose=True)"
   ]
  },
  {
   "cell_type": "code",
   "execution_count": 26,
   "id": "1d0b5720",
   "metadata": {},
   "outputs": [
    {
     "name": "stdout",
     "output_type": "stream",
     "text": [
      "Bad approximation for 3-th site - 3.0000000000000018\n",
      "Bad approximation for 4-th site - 3.0000000000000018\n"
     ]
    },
    {
     "data": {
      "text/plain": [
       "False"
      ]
     },
     "execution_count": 26,
     "metadata": {},
     "output_type": "execute_result"
    }
   ],
   "source": [
    "is_normalized(mps, 'left', verbose=True)"
   ]
  },
  {
   "cell_type": "markdown",
   "id": "37b74c47",
   "metadata": {},
   "source": [
    "# Exercise 1"
   ]
  },
  {
   "cell_type": "code",
   "execution_count": 27,
   "id": "8f790056",
   "metadata": {},
   "outputs": [],
   "source": [
    "from copy import deepcopy\n",
    "\n",
    "def canonical_form(mps, idx, n_keep=np.inf):\n",
    "    \"\"\"\n",
    "    Get the canonical form of the MPS represented as a list of tensors of size N.\n",
    "    Brings the tensors M{0},..,M{idx-1} in the input MPS into the left canonical\n",
    "    form, and the other M{idx},..,M{N-1} into the right canonical form.\n",
    "    Each element of the input MPS is a rank-3 tensor,\n",
    "\n",
    "    Input\n",
    "    -----\n",
    "        mps:     An MPS of length N. Each cell element is a rank-3\n",
    "                 tensor, where the first, second, and third dimensions are\n",
    "                 associated with left, bottom (i.e., local), and right legs,\n",
    "                 respectively.               \n",
    "        idx:     Index for the bond connecting the tensors M{idx-1} and\n",
    "                 M{idx}. With respect to the bond, the tensors to the left\n",
    "                 (right) are brought into the left-(right-)canonical form. If id ==\n",
    "                 0, the whole MPS will be in the right-canonical form.\n",
    "        n_keep:  Maximum bond dimension. That is, only n_keep the\n",
    "                 singular values and their associated singular vectors are kept at\n",
    "                 each iteration.\n",
    "    Output\n",
    "    ------\n",
    "        cmps:   s Left-, right-, or bond-canonical form from input M,\n",
    "                 depending on id, as follows:\n",
    "                 * idx == 0: right-canonical form\n",
    "                 * idx == len(mps): left-canonical form\n",
    "                 * otherwise: bond-canonical form\n",
    "\n",
    "        s:       Singular values at the bond between M{id} and M{id+1}. \n",
    "        dw:      Discarded weight (i.e., the sum of the square of the singular  \n",
    "                 values that are discarded) at the bond between M{n} and M{n+1.\n",
    "                 Is a cector of length len(MPS) - 1.\n",
    "    \"\"\"\n",
    "    assert isinstance(idx, int), 'The bond index must be an integer'\n",
    "    assert 0 <= idx <= len(mps)-1, 'The input bond index must be 0 <= idx <= len(mps)-1'\n",
    "    assert mps[0].shape[0]==1, 'The dimension of the first tensor must be 1'\n",
    "    assert mps[-1].shape[-1] == 1, 'The dimension of last tensor must be 1'\n",
    "        \n",
    "    N = len(mps)\n",
    "    \n",
    "    if idx == 0: idx -= 1  # need to adjust the index to traverse properly\n",
    "    \n",
    "    # init discard weight\n",
    "    dw = np.zeros(len(mps)-1)\n",
    "              \n",
    "    # left canonical form of M{0}...M(idx-1)       \n",
    "    for i in range(0, idx+1, 1):\n",
    "        M = mps[i]\n",
    "        n, d, D = M.shape\n",
    "        M = M.reshape(n*d, D)\n",
    "        U, s, V = np.linalg.svd(M, full_matrices=False)\n",
    "            \n",
    "        # truncating the bond dimention\n",
    "        keep = min(n_keep, len(s))\n",
    "        U = U[:,:keep]\n",
    "        s, err = s[:keep], s[keep:]\n",
    "        V = V[:keep,:]\n",
    "        \n",
    "        mps[i] = U.reshape(U.shape[0] // d, d, U.shape[1])\n",
    "        \n",
    "        if i < idx:\n",
    "            print(i, \"L\")\n",
    "            dw[i] = np.sum(err**2)\n",
    "            M̃ = mps[i+1].reshape(D, -1)\n",
    "            mps[i+1] = (np.diag(s) @ V @ M̃).reshape(U.shape[1], d, -1)\n",
    "        else:\n",
    "            R1 = np.diag(s) @ V\n",
    "            print(i, 'R1')\n",
    "\n",
    "        \n",
    "    # right canonical form of M{N-1}...M(idx)\n",
    "    for i in range(N-1, idx, -1):\n",
    "                \n",
    "        M = mps[i]\n",
    "        D, d, n = M.shape\n",
    "        M = M.reshape(D, n*d)\n",
    "        U, s, V = np.linalg.svd(M, full_matrices=False)\n",
    "\n",
    "        # truncating the bond dimention\n",
    "        keep = min(n_keep, len(s))\n",
    "        U = U[:,:keep]\n",
    "        s, err = s[:keep], s[keep:]\n",
    "        V = V[:keep,:] \n",
    "\n",
    "        mps[i] = V.reshape(V.shape[0], d, V.shape[1] // d)\n",
    "\n",
    "        if i > idx+1:\n",
    "            print(i, \"R\")\n",
    "            dw[i-1] = np.sum(err**2) \n",
    "            M̃ = mps[i-1].reshape(-1, D)\n",
    "            mps[i-1] = (M̃ @ U @ np.diag(s)).reshape(-1, d, V.shape[0])\n",
    "        else:\n",
    "            R2 = U @ np.diag(s)\n",
    "            print(i, 'R2')\n",
    "\n",
    "    if idx+1 == 0:\n",
    "        s = R2\n",
    "    elif idx == N-1:\n",
    "        s = R1\n",
    "    else:\n",
    "        U, s, V = np.linalg.svd(R1 @ R2, full_matrices=False)\n",
    "\n",
    "        # truncating the bond dimention\n",
    "        keep = min(n_keep, len(s))\n",
    "        U = U[:,:keep]\n",
    "        V = V[:keep,:]\n",
    "        \n",
    "        mps[idx-1] = mps[idx-1] @ U\n",
    "        mps[idx] = (V @ mps[idx].reshape(mps[idx].shape[0], -1)).reshape(V.shape[0],d,-1)\n",
    "        \n",
    "    return mps, s, dw"
   ]
  },
  {
   "cell_type": "code",
   "execution_count": 28,
   "id": "71f6e853",
   "metadata": {},
   "outputs": [
    {
     "data": {
      "text/plain": [
       "(7, (1, 3, 30), (30, 3, 30), (30, 3, 1))"
      ]
     },
     "execution_count": 28,
     "metadata": {},
     "output_type": "execute_result"
    }
   ],
   "source": [
    "N = 7  # number of sites\n",
    "d = 3   # local space dimenision\n",
    "D = 30   # bond dimension\n",
    "\n",
    "mps = random_mps(N, d, D, seed)\n",
    "\n",
    "# checking the result dimentions\n",
    "len(mps), *map(np.shape, (mps[0],mps[1], mps[-1]))"
   ]
  },
  {
   "cell_type": "code",
   "execution_count": 29,
   "id": "37bb03e8",
   "metadata": {},
   "outputs": [
    {
     "name": "stdout",
     "output_type": "stream",
     "text": [
      "0 L\n",
      "1 L\n",
      "2 R1\n",
      "6 R\n",
      "5 R\n",
      "4 R\n",
      "3 R2\n"
     ]
    }
   ],
   "source": [
    "idx = 2\n",
    "n_keep = 4\n",
    "\n",
    "cmps, s, dw = canonical_form(mps, idx, n_keep)"
   ]
  },
  {
   "cell_type": "code",
   "execution_count": 30,
   "id": "ec023a15",
   "metadata": {},
   "outputs": [
    {
     "data": {
      "text/plain": [
       "array([  0.        ,  30.58048791,   0.        , 341.2596289 ,\n",
       "        14.89814289,   0.        ])"
      ]
     },
     "execution_count": 30,
     "metadata": {},
     "output_type": "execute_result"
    }
   ],
   "source": [
    "dw"
   ]
  },
  {
   "cell_type": "code",
   "execution_count": 31,
   "id": "0e92122c",
   "metadata": {},
   "outputs": [
    {
     "data": {
      "text/plain": [
       "array([2.87074669e+08, 1.35940532e+05, 5.08942037e+04, 1.53896452e+03])"
      ]
     },
     "execution_count": 31,
     "metadata": {},
     "output_type": "execute_result"
    }
   ],
   "source": [
    "s"
   ]
  },
  {
   "cell_type": "markdown",
   "id": "199c68bd",
   "metadata": {},
   "source": [
    "### Checking correctness"
   ]
  },
  {
   "cell_type": "code",
   "execution_count": 32,
   "id": "58ada325",
   "metadata": {},
   "outputs": [],
   "source": [
    "tol = 1E-3  # error tolerance \n",
    "\n",
    "def check_consistency(mps, idx):\n",
    "\n",
    "    passed = True\n",
    "    \n",
    "    # left-canonical\n",
    "    for i in range(0, idx, 1):\n",
    "        A = mps[i]\n",
    "        n, d, D = A.shape\n",
    "        A = A.reshape(-1, D) \n",
    "        delta = np.max(abs((A.T @ A) - np.eye(D)).reshape(-1,1) )   # A.T @ A = 1\n",
    "        if delta > tol:\n",
    "            print(f'Bad left normalization for site {i}. Error: {delta}')\n",
    "            passed = False\n",
    "        \n",
    "    # right canonical\n",
    "    for i in range(N-1, idx-1, -1):\n",
    "        A = mps[i]\n",
    "        D, d, n = A.shape\n",
    "        A = A.reshape(D, -1) \n",
    "        delta = np.max(abs((A @ A.T) - np.eye(D)).reshape(-1,1) )   # A @ A.T = 1\n",
    "        if delta > tol:\n",
    "            print(f'Bad right normalization for site {i}. Error: {delta}')\n",
    "            passed = False\n",
    "            \n",
    "    if passed:\n",
    "        print('You MPS is normalized correctly')"
   ]
  },
  {
   "cell_type": "code",
   "execution_count": 33,
   "id": "dd7065d9",
   "metadata": {},
   "outputs": [
    {
     "name": "stdout",
     "output_type": "stream",
     "text": [
      "Bad right normalization for site 2. Error: 1.9991702124875874\n"
     ]
    }
   ],
   "source": [
    "check_consistency(mps, idx)"
   ]
  },
  {
   "cell_type": "markdown",
   "id": "7c4d705d",
   "metadata": {},
   "source": [
    "# Exercise 2"
   ]
  },
  {
   "cell_type": "code",
   "execution_count": 34,
   "id": "efb64118",
   "metadata": {},
   "outputs": [],
   "source": [
    "N = 50  # number of sites\n",
    "d = 3   # local space dimenision\n",
    "D = 30   # bond dimension\n",
    "\n",
    "mps = random_mps(N, d, D, seed)"
   ]
  },
  {
   "cell_type": "code",
   "execution_count": 35,
   "id": "5b9b93cc",
   "metadata": {},
   "outputs": [],
   "source": [
    "# mpsₗ, sₗ, dwₗ = canonical_form(mps, 0)"
   ]
  },
  {
   "cell_type": "code",
   "execution_count": 36,
   "id": "0b5b850b",
   "metadata": {},
   "outputs": [
    {
     "ename": "NameError",
     "evalue": "name 'mpsl' is not defined",
     "output_type": "error",
     "traceback": [
      "\u001b[0;31m---------------------------------------------------------------------------\u001b[0m",
      "\u001b[0;31mNameError\u001b[0m                                 Traceback (most recent call last)",
      "\u001b[0;32m<ipython-input-36-30d272549ff9>\u001b[0m in \u001b[0;36m<module>\u001b[0;34m\u001b[0m\n\u001b[0;32m----> 1\u001b[0;31m \u001b[0mmpsᵣ\u001b[0m\u001b[0;34m,\u001b[0m \u001b[0msᵣ\u001b[0m\u001b[0;34m,\u001b[0m \u001b[0mdwᵣ\u001b[0m \u001b[0;34m=\u001b[0m \u001b[0mcanonical_form\u001b[0m\u001b[0;34m(\u001b[0m\u001b[0mmpsₗ\u001b[0m\u001b[0;34m,\u001b[0m \u001b[0mN\u001b[0m\u001b[0;34m)\u001b[0m\u001b[0;34m\u001b[0m\u001b[0;34m\u001b[0m\u001b[0m\n\u001b[0m",
      "\u001b[0;31mNameError\u001b[0m: name 'mpsl' is not defined"
     ]
    }
   ],
   "source": [
    "mpsᵣ, sᵣ, dwᵣ = canonical_form(mpsₗ, N)"
   ]
  },
  {
   "cell_type": "code",
   "execution_count": null,
   "id": "04ddf2f2",
   "metadata": {},
   "outputs": [],
   "source": [
    "sᵣ"
   ]
  },
  {
   "cell_type": "code",
   "execution_count": null,
   "id": "bf4deed7",
   "metadata": {},
   "outputs": [],
   "source": [
    "# mps[0].shape, mpsₗ[0].shape, mpsᵣ[0].shape"
   ]
  },
  {
   "cell_type": "code",
   "execution_count": null,
   "id": "844e5021",
   "metadata": {},
   "outputs": [],
   "source": [
    "# mps[0].shape, mpsₗ[0].shape"
   ]
  },
  {
   "cell_type": "code",
   "execution_count": null,
   "id": "c2f5b0c4",
   "metadata": {},
   "outputs": [],
   "source": [
    "n_keep = np.arange(3,30,3)"
   ]
  },
  {
   "cell_type": "code",
   "execution_count": null,
   "id": "62c98537",
   "metadata": {},
   "outputs": [],
   "source": [
    "canonical_form(mpsᵣ, N, n)"
   ]
  },
  {
   "cell_type": "code",
   "execution_count": null,
   "id": "a72191a6",
   "metadata": {},
   "outputs": [],
   "source": [
    "canonical_form(mpsᵣ, N, n)"
   ]
  }
 ],
 "metadata": {
  "kernelspec": {
   "display_name": "Python 3",
   "language": "python",
   "name": "python3"
  },
  "language_info": {
   "codemirror_mode": {
    "name": "ipython",
    "version": 3
   },
   "file_extension": ".py",
   "mimetype": "text/x-python",
   "name": "python",
   "nbconvert_exporter": "python",
   "pygments_lexer": "ipython3",
   "version": "3.8.2"
  }
 },
 "nbformat": 4,
 "nbformat_minor": 5
}
