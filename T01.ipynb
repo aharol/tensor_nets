{
 "cells": [
  {
   "cell_type": "markdown",
   "id": "00441916",
   "metadata": {},
   "source": [
    "# Initialization"
   ]
  },
  {
   "cell_type": "code",
   "execution_count": 2,
   "id": "1023682c",
   "metadata": {},
   "outputs": [],
   "source": [
    "import numpy as np\n",
    "import torch"
   ]
  },
  {
   "cell_type": "markdown",
   "id": "dad9d393",
   "metadata": {},
   "source": [
    "# Basic algebra"
   ]
  },
  {
   "cell_type": "code",
   "execution_count": 41,
   "id": "ddbed8d1",
   "metadata": {},
   "outputs": [
    {
     "data": {
      "text/plain": [
       "3"
      ]
     },
     "execution_count": 41,
     "metadata": {},
     "output_type": "execute_result"
    }
   ],
   "source": [
    "A = 1; B = 2\n",
    "A + B"
   ]
  },
  {
   "cell_type": "code",
   "execution_count": 17,
   "id": "41645b75",
   "metadata": {},
   "outputs": [
    {
     "data": {
      "text/plain": [
       "-1"
      ]
     },
     "execution_count": 17,
     "metadata": {},
     "output_type": "execute_result"
    }
   ],
   "source": [
    "A - B"
   ]
  },
  {
   "cell_type": "code",
   "execution_count": 18,
   "id": "43f77820",
   "metadata": {},
   "outputs": [
    {
     "data": {
      "text/plain": [
       "2"
      ]
     },
     "execution_count": 18,
     "metadata": {},
     "output_type": "execute_result"
    }
   ],
   "source": [
    "A * B"
   ]
  },
  {
   "cell_type": "code",
   "execution_count": 19,
   "id": "a964933d",
   "metadata": {},
   "outputs": [
    {
     "data": {
      "text/plain": [
       "0.5"
      ]
     },
     "execution_count": 19,
     "metadata": {},
     "output_type": "execute_result"
    }
   ],
   "source": [
    "A / B"
   ]
  },
  {
   "cell_type": "markdown",
   "id": "ab437c28",
   "metadata": {},
   "source": [
    "# Constants"
   ]
  },
  {
   "cell_type": "code",
   "execution_count": 22,
   "id": "fdb2eb33",
   "metadata": {},
   "outputs": [
    {
     "data": {
      "text/plain": [
       "1j"
      ]
     },
     "execution_count": 22,
     "metadata": {},
     "output_type": "execute_result"
    }
   ],
   "source": [
    "1j # imaginary number"
   ]
  },
  {
   "cell_type": "code",
   "execution_count": 23,
   "id": "40fc5300",
   "metadata": {},
   "outputs": [
    {
     "data": {
      "text/plain": [
       "3.141592653589793"
      ]
     },
     "execution_count": 23,
     "metadata": {},
     "output_type": "execute_result"
    }
   ],
   "source": [
    "np.pi"
   ]
  },
  {
   "cell_type": "code",
   "execution_count": 24,
   "id": "f51c1de7",
   "metadata": {},
   "outputs": [
    {
     "data": {
      "text/plain": [
       "2.718281828459045"
      ]
     },
     "execution_count": 24,
     "metadata": {},
     "output_type": "execute_result"
    }
   ],
   "source": [
    "np.e"
   ]
  },
  {
   "cell_type": "code",
   "execution_count": 29,
   "id": "abdb078b",
   "metadata": {},
   "outputs": [],
   "source": [
    "#1 / 0; -1 / 0; 0 /  # All give rise to the ZeroDivisionError"
   ]
  },
  {
   "cell_type": "code",
   "execution_count": 68,
   "id": "2f456c29",
   "metadata": {},
   "outputs": [
    {
     "data": {
      "text/plain": [
       "3"
      ]
     },
     "execution_count": 68,
     "metadata": {},
     "output_type": "execute_result"
    }
   ],
   "source": [
    "A = 1; B = 2\n",
    "A + B"
   ]
  },
  {
   "cell_type": "markdown",
   "id": "86ca3dfd",
   "metadata": {},
   "source": [
    "# Vectors and matrices in Torch"
   ]
  },
  {
   "cell_type": "code",
   "execution_count": 37,
   "id": "3c02ba97",
   "metadata": {},
   "outputs": [
    {
     "data": {
      "text/plain": [
       "tensor([1, 2, 3])"
      ]
     },
     "execution_count": 37,
     "metadata": {},
     "output_type": "execute_result"
    }
   ],
   "source": [
    "torch.tensor([1, 2, 3])  # row vector"
   ]
  },
  {
   "cell_type": "code",
   "execution_count": 40,
   "id": "5e803407",
   "metadata": {},
   "outputs": [
    {
     "data": {
      "text/plain": [
       "tensor([[1],\n",
       "        [2],\n",
       "        [3]])"
      ]
     },
     "execution_count": 40,
     "metadata": {},
     "output_type": "execute_result"
    }
   ],
   "source": [
    "torch.tensor([[1], [2], [3]])  # column vector"
   ]
  },
  {
   "cell_type": "code",
   "execution_count": 163,
   "id": "6dd5a5d4",
   "metadata": {},
   "outputs": [
    {
     "data": {
      "text/plain": [
       "tensor([[1],\n",
       "        [2],\n",
       "        [3]])"
      ]
     },
     "execution_count": 163,
     "metadata": {},
     "output_type": "execute_result"
    }
   ],
   "source": [
    "torch.tensor([1, 2, 3]).reshape(3,1)"
   ]
  },
  {
   "cell_type": "code",
   "execution_count": 65,
   "id": "3078ed84",
   "metadata": {},
   "outputs": [
    {
     "data": {
      "text/plain": [
       "tensor([[1, 2],\n",
       "        [3, 4]])"
      ]
     },
     "execution_count": 65,
     "metadata": {},
     "output_type": "execute_result"
    }
   ],
   "source": [
    "torch.tensor([[1, 2],[3, 4]])"
   ]
  },
  {
   "cell_type": "code",
   "execution_count": 66,
   "id": "2dfec833",
   "metadata": {},
   "outputs": [
    {
     "data": {
      "text/plain": [
       "tensor([1, 2])"
      ]
     },
     "execution_count": 66,
     "metadata": {},
     "output_type": "execute_result"
    }
   ],
   "source": [
    "torch.arange(1,3)"
   ]
  },
  {
   "cell_type": "code",
   "execution_count": 62,
   "id": "ae5e5af8",
   "metadata": {},
   "outputs": [
    {
     "data": {
      "text/plain": [
       "tensor([ 1,  4,  7, 10])"
      ]
     },
     "execution_count": 62,
     "metadata": {},
     "output_type": "execute_result"
    }
   ],
   "source": [
    "torch.arange(1,11,3)"
   ]
  },
  {
   "cell_type": "code",
   "execution_count": 64,
   "id": "be235c03",
   "metadata": {},
   "outputs": [
    {
     "data": {
      "text/plain": [
       "tensor([1])"
      ]
     },
     "execution_count": 64,
     "metadata": {},
     "output_type": "execute_result"
    }
   ],
   "source": [
    "torch.arange(1,3,2)"
   ]
  },
  {
   "cell_type": "code",
   "execution_count": 71,
   "id": "06cf2fc6",
   "metadata": {},
   "outputs": [
    {
     "data": {
      "text/plain": [
       "tensor([ 1, -2, -5, -8])"
      ]
     },
     "execution_count": 71,
     "metadata": {},
     "output_type": "execute_result"
    }
   ],
   "source": [
    "torch.arange(1,-10,-3)"
   ]
  },
  {
   "cell_type": "code",
   "execution_count": 72,
   "id": "3b306e70",
   "metadata": {},
   "outputs": [
    {
     "data": {
      "text/plain": [
       "tensor([[0.0973, 0.0300],\n",
       "        [0.4926, 0.1014],\n",
       "        [0.9620, 0.5794]])"
      ]
     },
     "execution_count": 72,
     "metadata": {},
     "output_type": "execute_result"
    }
   ],
   "source": [
    "torch.rand((3,2))"
   ]
  },
  {
   "cell_type": "code",
   "execution_count": 73,
   "id": "69da0d3c",
   "metadata": {},
   "outputs": [
    {
     "data": {
      "text/plain": [
       "tensor([[1., 1.],\n",
       "        [1., 1.],\n",
       "        [1., 1.]])"
      ]
     },
     "execution_count": 73,
     "metadata": {},
     "output_type": "execute_result"
    }
   ],
   "source": [
    "torch.ones((3,2))"
   ]
  },
  {
   "cell_type": "code",
   "execution_count": 74,
   "id": "0bc33f31",
   "metadata": {},
   "outputs": [
    {
     "data": {
      "text/plain": [
       "tensor([[0., 0.],\n",
       "        [0., 0.],\n",
       "        [0., 0.]])"
      ]
     },
     "execution_count": 74,
     "metadata": {},
     "output_type": "execute_result"
    }
   ],
   "source": [
    "torch.zeros((3,2))"
   ]
  },
  {
   "cell_type": "code",
   "execution_count": 75,
   "id": "9551c930",
   "metadata": {},
   "outputs": [
    {
     "data": {
      "text/plain": [
       "tensor([0.4958, 0.1771, 0.1898])"
      ]
     },
     "execution_count": 75,
     "metadata": {},
     "output_type": "execute_result"
    }
   ],
   "source": [
    "torch.rand(3)"
   ]
  },
  {
   "cell_type": "code",
   "execution_count": 76,
   "id": "a277d698",
   "metadata": {},
   "outputs": [
    {
     "data": {
      "text/plain": [
       "tensor([1., 1., 1.])"
      ]
     },
     "execution_count": 76,
     "metadata": {},
     "output_type": "execute_result"
    }
   ],
   "source": [
    "torch.ones(3)"
   ]
  },
  {
   "cell_type": "code",
   "execution_count": 77,
   "id": "3570208f",
   "metadata": {},
   "outputs": [
    {
     "data": {
      "text/plain": [
       "tensor([0., 0., 0.])"
      ]
     },
     "execution_count": 77,
     "metadata": {},
     "output_type": "execute_result"
    }
   ],
   "source": [
    "torch.zeros(3)"
   ]
  },
  {
   "cell_type": "code",
   "execution_count": 84,
   "id": "e17bbc7d",
   "metadata": {},
   "outputs": [
    {
     "data": {
      "text/plain": [
       "tensor([[[0.2209, 0.0397, 0.1170],\n",
       "         [0.3025, 0.0045, 0.1658]],\n",
       "\n",
       "        [[0.1966, 0.4569, 0.8152],\n",
       "         [0.0137, 0.1497, 0.8594]],\n",
       "\n",
       "        [[0.1503, 0.0183, 0.3470],\n",
       "         [0.0729, 0.7303, 0.1676]]])"
      ]
     },
     "execution_count": 84,
     "metadata": {},
     "output_type": "execute_result"
    }
   ],
   "source": [
    "A = torch.rand((3,2,3))\n",
    "A"
   ]
  },
  {
   "cell_type": "code",
   "execution_count": 92,
   "id": "4df8612b",
   "metadata": {},
   "outputs": [
    {
     "data": {
      "text/plain": [
       "tensor([[0.2209, 0.3025],\n",
       "        [0.1966, 0.0137],\n",
       "        [0.1503, 0.0729]])"
      ]
     },
     "execution_count": 92,
     "metadata": {},
     "output_type": "execute_result"
    }
   ],
   "source": [
    "A[:,:,0]"
   ]
  },
  {
   "cell_type": "code",
   "execution_count": 89,
   "id": "9b678a3e",
   "metadata": {},
   "outputs": [
    {
     "data": {
      "text/plain": [
       "tensor([[0.2209, 0.0397, 0.1170],\n",
       "        [0.1966, 0.4569, 0.8152],\n",
       "        [0.1503, 0.0183, 0.3470]])"
      ]
     },
     "execution_count": 89,
     "metadata": {},
     "output_type": "execute_result"
    }
   ],
   "source": [
    "A[:,0,:]"
   ]
  },
  {
   "cell_type": "code",
   "execution_count": 90,
   "id": "793a7836",
   "metadata": {},
   "outputs": [
    {
     "data": {
      "text/plain": [
       "tensor([[0.1966, 0.4569, 0.8152],\n",
       "        [0.0137, 0.1497, 0.8594]])"
      ]
     },
     "execution_count": 90,
     "metadata": {},
     "output_type": "execute_result"
    }
   ],
   "source": [
    "A[1,:,:]"
   ]
  },
  {
   "cell_type": "code",
   "execution_count": 94,
   "id": "4c100435",
   "metadata": {},
   "outputs": [
    {
     "data": {
      "text/plain": [
       "tensor([[1., 0., 0.],\n",
       "        [0., 1., 0.],\n",
       "        [0., 0., 1.]])"
      ]
     },
     "execution_count": 94,
     "metadata": {},
     "output_type": "execute_result"
    }
   ],
   "source": [
    "torch.eye(3)"
   ]
  },
  {
   "cell_type": "code",
   "execution_count": 96,
   "id": "a8f3bc1e",
   "metadata": {},
   "outputs": [
    {
     "data": {
      "text/plain": [
       "tensor([[1., 0., 0., 0.],\n",
       "        [0., 1., 0., 0.],\n",
       "        [0., 0., 1., 0.]])"
      ]
     },
     "execution_count": 96,
     "metadata": {},
     "output_type": "execute_result"
    }
   ],
   "source": [
    "torch.eye(3,4)"
   ]
  },
  {
   "cell_type": "code",
   "execution_count": 97,
   "id": "30d6748f",
   "metadata": {},
   "outputs": [
    {
     "data": {
      "text/plain": [
       "tensor([[1., 0.],\n",
       "        [0., 1.],\n",
       "        [0., 0.],\n",
       "        [0., 0.]])"
      ]
     },
     "execution_count": 97,
     "metadata": {},
     "output_type": "execute_result"
    }
   ],
   "source": [
    "torch.eye(4,2)"
   ]
  },
  {
   "cell_type": "markdown",
   "id": "afb3e527",
   "metadata": {},
   "source": [
    "# Matrix operations"
   ]
  },
  {
   "cell_type": "code",
   "execution_count": 161,
   "id": "e786f5e6",
   "metadata": {},
   "outputs": [],
   "source": [
    "A = torch.rand(3,2); B = torch.rand(2,4)"
   ]
  },
  {
   "cell_type": "code",
   "execution_count": 104,
   "id": "4a4d71b6",
   "metadata": {},
   "outputs": [
    {
     "data": {
      "text/plain": [
       "tensor([[0.7663, 0.7585, 1.3436, 1.2368],\n",
       "        [0.2916, 0.5372, 0.6533, 0.6767],\n",
       "        [0.1787, 0.0526, 0.2424, 0.1854]])"
      ]
     },
     "execution_count": 104,
     "metadata": {},
     "output_type": "execute_result"
    }
   ],
   "source": [
    "A @ B  # matrix multiplication"
   ]
  },
  {
   "cell_type": "code",
   "execution_count": 109,
   "id": "4c8ebf78",
   "metadata": {},
   "outputs": [
    {
     "data": {
      "text/plain": [
       "tensor([[0.3370, 0.2865],\n",
       "        [0.5876, 0.3923],\n",
       "        [0.8759, 0.5271]])"
      ]
     },
     "execution_count": 109,
     "metadata": {},
     "output_type": "execute_result"
    }
   ],
   "source": [
    "A"
   ]
  },
  {
   "cell_type": "code",
   "execution_count": 114,
   "id": "f80b25dc",
   "metadata": {},
   "outputs": [
    {
     "data": {
      "text/plain": [
       "tensor([[0.8970, 0.9375],\n",
       "        [0.8873, 0.8277],\n",
       "        [0.4544, 0.1608]])"
      ]
     },
     "execution_count": 114,
     "metadata": {},
     "output_type": "execute_result"
    }
   ],
   "source": [
    "B = torch.rand((3,2))\n",
    "B"
   ]
  },
  {
   "cell_type": "code",
   "execution_count": 115,
   "id": "3b4d3531",
   "metadata": {},
   "outputs": [
    {
     "data": {
      "text/plain": [
       "tensor([[1.2340, 1.2240],\n",
       "        [1.4749, 1.2200],\n",
       "        [1.3303, 0.6879]])"
      ]
     },
     "execution_count": 115,
     "metadata": {},
     "output_type": "execute_result"
    }
   ],
   "source": [
    "A + B  # element-wise "
   ]
  },
  {
   "cell_type": "code",
   "execution_count": 116,
   "id": "19b0d870",
   "metadata": {},
   "outputs": [
    {
     "data": {
      "text/plain": [
       "tensor([[-0.5599, -0.6510],\n",
       "        [-0.2997, -0.4353],\n",
       "        [ 0.4215,  0.3663]])"
      ]
     },
     "execution_count": 116,
     "metadata": {},
     "output_type": "execute_result"
    }
   ],
   "source": [
    "A - B  # element-wise "
   ]
  },
  {
   "cell_type": "code",
   "execution_count": 117,
   "id": "4360ec0b",
   "metadata": {},
   "outputs": [
    {
     "data": {
      "text/plain": [
       "tensor([[0.3023, 0.2686],\n",
       "        [0.5214, 0.3247],\n",
       "        [0.3980, 0.0848]])"
      ]
     },
     "execution_count": 117,
     "metadata": {},
     "output_type": "execute_result"
    }
   ],
   "source": [
    "A * B  # element-wise "
   ]
  },
  {
   "cell_type": "code",
   "execution_count": 119,
   "id": "448a2a16",
   "metadata": {},
   "outputs": [
    {
     "data": {
      "text/plain": [
       "tensor([[0.3757, 0.3056],\n",
       "        [0.6623, 0.4740],\n",
       "        [1.9277, 3.2780]])"
      ]
     },
     "execution_count": 119,
     "metadata": {},
     "output_type": "execute_result"
    }
   ],
   "source": [
    "A / B  # element-wise "
   ]
  },
  {
   "cell_type": "code",
   "execution_count": 128,
   "id": "92f64adb",
   "metadata": {},
   "outputs": [
    {
     "data": {
      "text/plain": [
       "tensor([[-8.9407e-08, -2.9802e-08],\n",
       "        [-1.1921e-07, -5.9605e-08],\n",
       "        [-1.1921e-07,  0.0000e+00]])"
      ]
     },
     "execution_count": 128,
     "metadata": {},
     "output_type": "execute_result"
    }
   ],
   "source": [
    "C = A @ torch.pinverse(B)  # for square matrices use torch.inverse\n",
    "C @ B - A"
   ]
  },
  {
   "cell_type": "markdown",
   "id": "bc456815",
   "metadata": {},
   "source": [
    "# Size commands"
   ]
  },
  {
   "cell_type": "code",
   "execution_count": 160,
   "id": "8fde87dc",
   "metadata": {},
   "outputs": [],
   "source": [
    "A = torch.rand(3,2)"
   ]
  },
  {
   "cell_type": "code",
   "execution_count": 134,
   "id": "2e3d5eab",
   "metadata": {},
   "outputs": [
    {
     "data": {
      "text/plain": [
       "torch.Size([3, 2])"
      ]
     },
     "execution_count": 134,
     "metadata": {},
     "output_type": "execute_result"
    }
   ],
   "source": [
    "A.shape"
   ]
  },
  {
   "cell_type": "code",
   "execution_count": 136,
   "id": "b5d49bbb",
   "metadata": {},
   "outputs": [
    {
     "data": {
      "text/plain": [
       "torch.Size([3, 2])"
      ]
     },
     "execution_count": 136,
     "metadata": {},
     "output_type": "execute_result"
    }
   ],
   "source": [
    "A.size()"
   ]
  },
  {
   "cell_type": "code",
   "execution_count": 138,
   "id": "201ed864",
   "metadata": {},
   "outputs": [
    {
     "data": {
      "text/plain": [
       "3"
      ]
     },
     "execution_count": 138,
     "metadata": {},
     "output_type": "execute_result"
    }
   ],
   "source": [
    "A.size(0)  # first dimension"
   ]
  },
  {
   "cell_type": "code",
   "execution_count": 140,
   "id": "3ee69825",
   "metadata": {},
   "outputs": [
    {
     "data": {
      "text/plain": [
       "2"
      ]
     },
     "execution_count": 140,
     "metadata": {},
     "output_type": "execute_result"
    }
   ],
   "source": [
    "A.size(1)  # second dimension"
   ]
  },
  {
   "cell_type": "code",
   "execution_count": 141,
   "id": "b7cfdf21",
   "metadata": {},
   "outputs": [
    {
     "data": {
      "text/plain": [
       "6"
      ]
     },
     "execution_count": 141,
     "metadata": {},
     "output_type": "execute_result"
    }
   ],
   "source": [
    "A.numel()"
   ]
  },
  {
   "cell_type": "code",
   "execution_count": 143,
   "id": "dd542cad",
   "metadata": {},
   "outputs": [
    {
     "data": {
      "text/plain": [
       "tensor([[0.5315],\n",
       "        [0.5167],\n",
       "        [0.8686]])"
      ]
     },
     "execution_count": 143,
     "metadata": {},
     "output_type": "execute_result"
    }
   ],
   "source": [
    "torch.rand((3,1))  # vector"
   ]
  },
  {
   "cell_type": "markdown",
   "id": "b49ccae7",
   "metadata": {},
   "source": [
    "# Transpose and Hermitian"
   ]
  },
  {
   "cell_type": "code",
   "execution_count": 159,
   "id": "04699a4a",
   "metadata": {},
   "outputs": [
    {
     "data": {
      "text/plain": [
       "tensor([[0.2106+0.6003j, 0.2996+0.8188j],\n",
       "        [0.5329+0.7501j, 0.7162+0.2828j],\n",
       "        [0.0792+0.4387j, 0.2753+0.4403j]])"
      ]
     },
     "execution_count": 159,
     "metadata": {},
     "output_type": "execute_result"
    }
   ],
   "source": [
    "A = torch.rand(3,2) + 1j * torch.rand(3,2)\n",
    "A"
   ]
  },
  {
   "cell_type": "code",
   "execution_count": 150,
   "id": "ed6a53a5",
   "metadata": {},
   "outputs": [
    {
     "data": {
      "text/plain": [
       "tensor([[0.9869+0.9470j, 0.2234+0.0486j, 0.1996+0.3556j],\n",
       "        [0.1677+0.6015j, 0.8633+0.4024j, 0.5453+0.6878j]])"
      ]
     },
     "execution_count": 150,
     "metadata": {},
     "output_type": "execute_result"
    }
   ],
   "source": [
    "A.T  # transpose"
   ]
  },
  {
   "cell_type": "code",
   "execution_count": 151,
   "id": "e01e0a1e",
   "metadata": {},
   "outputs": [
    {
     "data": {
      "text/plain": [
       "tensor([[0.9869-0.9470j, 0.2234-0.0486j, 0.1996-0.3556j],\n",
       "        [0.1677-0.6015j, 0.8633-0.4024j, 0.5453-0.6878j]])"
      ]
     },
     "execution_count": 151,
     "metadata": {},
     "output_type": "execute_result"
    }
   ],
   "source": [
    "A.conj().T  # conjugate transpose"
   ]
  },
  {
   "cell_type": "code",
   "execution_count": 156,
   "id": "6ffa6ec8",
   "metadata": {},
   "outputs": [
    {
     "data": {
      "text/plain": [
       "-1j"
      ]
     },
     "execution_count": 156,
     "metadata": {},
     "output_type": "execute_result"
    }
   ],
   "source": [
    "np.conj(1j) # complex conjugation for a number"
   ]
  },
  {
   "cell_type": "markdown",
   "id": "4f854212",
   "metadata": {},
   "source": [
    "# Accessing the elements and submatrices of matrices"
   ]
  },
  {
   "cell_type": "code",
   "execution_count": 193,
   "id": "5aa4a4f2",
   "metadata": {},
   "outputs": [
    {
     "data": {
      "text/plain": [
       "tensor([[0.1190, 0.0936, 0.0311, 0.2771, 0.8786],\n",
       "        [0.4235, 0.2326, 0.0937, 0.3965, 0.3524],\n",
       "        [0.0645, 0.5305, 0.0639, 0.5298, 0.9652],\n",
       "        [0.3126, 0.0595, 0.8084, 0.9274, 0.1910],\n",
       "        [0.1456, 0.5670, 0.6869, 0.4153, 0.1078]])"
      ]
     },
     "execution_count": 193,
     "metadata": {},
     "output_type": "execute_result"
    }
   ],
   "source": [
    "A = torch.rand(5,5)\n",
    "A"
   ]
  },
  {
   "cell_type": "code",
   "execution_count": 194,
   "id": "a85719ef",
   "metadata": {},
   "outputs": [
    {
     "data": {
      "text/plain": [
       "tensor(0.3965)"
      ]
     },
     "execution_count": 194,
     "metadata": {},
     "output_type": "execute_result"
    }
   ],
   "source": [
    "A[1,3]"
   ]
  },
  {
   "cell_type": "code",
   "execution_count": 195,
   "id": "12b9e513",
   "metadata": {},
   "outputs": [
    {
     "data": {
      "text/plain": [
       "tensor([0.0311, 0.0937, 0.0639, 0.8084, 0.6869])"
      ]
     },
     "execution_count": 195,
     "metadata": {},
     "output_type": "execute_result"
    }
   ],
   "source": [
    "A[:,2]"
   ]
  },
  {
   "cell_type": "code",
   "execution_count": 196,
   "id": "10a99b2c",
   "metadata": {},
   "outputs": [
    {
     "data": {
      "text/plain": [
       "tensor([[0.1190, 0.0936, 0.0311, 0.2771, 0.8786],\n",
       "        [0.4235, 0.2326, 0.0937, 0.3965, 0.3524],\n",
       "        [0.0645, 0.5305, 0.0639, 0.5298, 0.9652],\n",
       "        [0.3126, 0.0595, 0.8084, 0.9274, 0.1910],\n",
       "        [0.1456, 0.5670, 0.6869, 0.4153, 0.1078]])"
      ]
     },
     "execution_count": 196,
     "metadata": {},
     "output_type": "execute_result"
    }
   ],
   "source": [
    "A[:,:]"
   ]
  },
  {
   "cell_type": "code",
   "execution_count": 197,
   "id": "ce2aac14",
   "metadata": {},
   "outputs": [
    {
     "data": {
      "text/plain": [
       "tensor([[0.1190],\n",
       "        [0.0936],\n",
       "        [0.0311],\n",
       "        [0.2771],\n",
       "        [0.8786],\n",
       "        [0.4235],\n",
       "        [0.2326],\n",
       "        [0.0937],\n",
       "        [0.3965],\n",
       "        [0.3524],\n",
       "        [0.0645],\n",
       "        [0.5305],\n",
       "        [0.0639],\n",
       "        [0.5298],\n",
       "        [0.9652],\n",
       "        [0.3126],\n",
       "        [0.0595],\n",
       "        [0.8084],\n",
       "        [0.9274],\n",
       "        [0.1910],\n",
       "        [0.1456],\n",
       "        [0.5670],\n",
       "        [0.6869],\n",
       "        [0.4153],\n",
       "        [0.1078]])"
      ]
     },
     "execution_count": 197,
     "metadata": {},
     "output_type": "execute_result"
    }
   ],
   "source": [
    "A.reshape(-1,1)  # -1 is used to infer the first dimention"
   ]
  },
  {
   "cell_type": "code",
   "execution_count": 198,
   "id": "1ad43c3a",
   "metadata": {},
   "outputs": [
    {
     "data": {
      "text/plain": [
       "tensor([[0.0936, 0.0311],\n",
       "        [0.2326, 0.0937],\n",
       "        [0.5305, 0.0639]])"
      ]
     },
     "execution_count": 198,
     "metadata": {},
     "output_type": "execute_result"
    }
   ],
   "source": [
    "A[0:3,1:3]  # first three rows of the second and third columns"
   ]
  },
  {
   "cell_type": "code",
   "execution_count": 199,
   "id": "04e71f1d",
   "metadata": {},
   "outputs": [
    {
     "data": {
      "text/plain": [
       "tensor([[0.9274, 0.1910],\n",
       "        [0.4153, 0.1078]])"
      ]
     },
     "execution_count": 199,
     "metadata": {},
     "output_type": "execute_result"
    }
   ],
   "source": [
    "A[3:,3:]  # the last two rows and colums"
   ]
  },
  {
   "cell_type": "code",
   "execution_count": 200,
   "id": "dc37b42b",
   "metadata": {},
   "outputs": [
    {
     "data": {
      "text/plain": [
       "tensor([[0.1190, 0.0936, 0.0311, 0.2771, 0.8786],\n",
       "        [0.4235, 0.2326, 0.0937, 0.3965, 0.3524],\n",
       "        [0.0645, 0.5305, 0.0639, 0.5298, 0.9652],\n",
       "        [0.3126, 0.0595, 0.8084, 0.9274, 0.1910],\n",
       "        [0.1456, 0.5670, 0.6869, 0.4153, 1.0000]])"
      ]
     },
     "execution_count": 200,
     "metadata": {},
     "output_type": "execute_result"
    }
   ],
   "source": [
    "A[4,4] = 1.0  # reassigning the value\n",
    "A"
   ]
  },
  {
   "cell_type": "code",
   "execution_count": 201,
   "id": "65b4cb9e",
   "metadata": {},
   "outputs": [],
   "source": [
    "A[0:3,1:3] = 1.0  # reassigning multiple values"
   ]
  },
  {
   "cell_type": "code",
   "execution_count": 202,
   "id": "17582ecc",
   "metadata": {},
   "outputs": [
    {
     "data": {
      "text/plain": [
       "tensor([[0.1190, 1.0000, 1.0000, 0.2771, 0.8786],\n",
       "        [0.4235, 1.0000, 1.0000, 0.3965, 0.3524],\n",
       "        [0.0645, 1.0000, 1.0000, 0.5298, 0.9652],\n",
       "        [0.3126, 0.0595, 0.8084, 0.9274, 0.1910],\n",
       "        [0.1456, 0.5670, 0.6869, 0.4153, 1.0000]])"
      ]
     },
     "execution_count": 202,
     "metadata": {},
     "output_type": "execute_result"
    }
   ],
   "source": [
    "A"
   ]
  },
  {
   "cell_type": "code",
   "execution_count": 203,
   "id": "a36c64a2",
   "metadata": {},
   "outputs": [
    {
     "data": {
      "text/plain": [
       "tensor([[0., 0., 0., 0., 0.],\n",
       "        [0., 0., 0., 0., 0.],\n",
       "        [0., 0., 0., 0., 0.],\n",
       "        [0., 0., 0., 0., 0.],\n",
       "        [0., 0., 0., 0., 0.]])"
      ]
     },
     "execution_count": 203,
     "metadata": {},
     "output_type": "execute_result"
    }
   ],
   "source": [
    "A[:,:] = 0\n",
    "A"
   ]
  },
  {
   "cell_type": "code",
   "execution_count": 205,
   "id": "deb69671",
   "metadata": {},
   "outputs": [
    {
     "data": {
      "text/plain": [
       "tensor([[0.6118, 0.9188, 0.5373],\n",
       "        [0.4556, 0.0500, 0.3171],\n",
       "        [0.0121, 0.6689, 0.6308]])"
      ]
     },
     "execution_count": 205,
     "metadata": {},
     "output_type": "execute_result"
    }
   ],
   "source": [
    "A = torch.rand(3,3)\n",
    "A"
   ]
  },
  {
   "cell_type": "code",
   "execution_count": 208,
   "id": "b78ca9df",
   "metadata": {},
   "outputs": [
    {
     "data": {
      "text/plain": [
       "tensor([0.6118, 0.9188, 0.5373])"
      ]
     },
     "execution_count": 208,
     "metadata": {},
     "output_type": "execute_result"
    }
   ],
   "source": [
    "A[0]  # linear index"
   ]
  },
  {
   "cell_type": "code",
   "execution_count": 209,
   "id": "5ac011bb",
   "metadata": {},
   "outputs": [
    {
     "data": {
      "text/plain": [
       "tensor([[[0.3064, 0.4417, 0.5417],\n",
       "         [0.3349, 0.6171, 0.0575]],\n",
       "\n",
       "        [[0.9628, 0.2418, 0.7029],\n",
       "         [0.7779, 0.9182, 0.5918]],\n",
       "\n",
       "        [[0.8060, 0.8862, 0.7229],\n",
       "         [0.4883, 0.7391, 0.2973]]])"
      ]
     },
     "execution_count": 209,
     "metadata": {},
     "output_type": "execute_result"
    }
   ],
   "source": [
    "A = torch.rand(3,2,3)\n",
    "A"
   ]
  },
  {
   "cell_type": "code",
   "execution_count": 211,
   "id": "4437b8f4",
   "metadata": {},
   "outputs": [
    {
     "data": {
      "text/plain": [
       "tensor([[0.3064, 0.4417, 0.5417],\n",
       "        [0.3349, 0.6171, 0.0575]])"
      ]
     },
     "execution_count": 211,
     "metadata": {},
     "output_type": "execute_result"
    }
   ],
   "source": [
    "A[0]  # consistency for the multidimnsional array"
   ]
  },
  {
   "cell_type": "markdown",
   "id": "be9309df",
   "metadata": {},
   "source": [
    "# Reshape and permute matrices"
   ]
  },
  {
   "cell_type": "code",
   "execution_count": 225,
   "id": "ed8a20ba",
   "metadata": {},
   "outputs": [
    {
     "data": {
      "text/plain": [
       "tensor([0, 1, 2, 3, 4, 5])"
      ]
     },
     "execution_count": 225,
     "metadata": {},
     "output_type": "execute_result"
    }
   ],
   "source": [
    "A = torch.arange(6)\n",
    "A"
   ]
  },
  {
   "cell_type": "code",
   "execution_count": 226,
   "id": "05a1c5f6",
   "metadata": {},
   "outputs": [
    {
     "data": {
      "text/plain": [
       "tensor([[0, 1],\n",
       "        [2, 3],\n",
       "        [4, 5]])"
      ]
     },
     "execution_count": 226,
     "metadata": {},
     "output_type": "execute_result"
    }
   ],
   "source": [
    "B = A.reshape(3,2)\n",
    "B"
   ]
  },
  {
   "cell_type": "code",
   "execution_count": 235,
   "id": "3f70c8ec",
   "metadata": {},
   "outputs": [
    {
     "data": {
      "text/plain": [
       "tensor([[0, 2, 4],\n",
       "        [1, 3, 5]])"
      ]
     },
     "execution_count": 235,
     "metadata": {},
     "output_type": "execute_result"
    }
   ],
   "source": [
    "B.permute(1,0)  # same as transpose for matrices"
   ]
  },
  {
   "cell_type": "markdown",
   "id": "c16818f8",
   "metadata": {},
   "source": [
    "# Sum and product"
   ]
  },
  {
   "cell_type": "code",
   "execution_count": 249,
   "id": "afa0b3d6",
   "metadata": {},
   "outputs": [
    {
     "data": {
      "text/plain": [
       "tensor([0, 1, 2, 3, 4, 5])"
      ]
     },
     "execution_count": 249,
     "metadata": {},
     "output_type": "execute_result"
    }
   ],
   "source": [
    "A"
   ]
  },
  {
   "cell_type": "code",
   "execution_count": 250,
   "id": "7becd724",
   "metadata": {},
   "outputs": [
    {
     "data": {
      "text/plain": [
       "tensor([[0, 1],\n",
       "        [2, 3],\n",
       "        [4, 5]])"
      ]
     },
     "execution_count": 250,
     "metadata": {},
     "output_type": "execute_result"
    }
   ],
   "source": [
    "B"
   ]
  },
  {
   "cell_type": "code",
   "execution_count": 237,
   "id": "c37456b3",
   "metadata": {},
   "outputs": [
    {
     "data": {
      "text/plain": [
       "tensor(15)"
      ]
     },
     "execution_count": 237,
     "metadata": {},
     "output_type": "execute_result"
    }
   ],
   "source": [
    "A.sum()"
   ]
  },
  {
   "cell_type": "code",
   "execution_count": 240,
   "id": "9ae20ed6",
   "metadata": {},
   "outputs": [
    {
     "data": {
      "text/plain": [
       "tensor([6, 9])"
      ]
     },
     "execution_count": 240,
     "metadata": {},
     "output_type": "execute_result"
    }
   ],
   "source": [
    "B.sum(0)  # summing rows"
   ]
  },
  {
   "cell_type": "code",
   "execution_count": 241,
   "id": "3c1e9541",
   "metadata": {},
   "outputs": [
    {
     "data": {
      "text/plain": [
       "tensor([1, 5, 9])"
      ]
     },
     "execution_count": 241,
     "metadata": {},
     "output_type": "execute_result"
    }
   ],
   "source": [
    "B.sum(1)  # summing columns"
   ]
  },
  {
   "cell_type": "code",
   "execution_count": 243,
   "id": "f7103c23",
   "metadata": {},
   "outputs": [
    {
     "data": {
      "text/plain": [
       "tensor(15)"
      ]
     },
     "execution_count": 243,
     "metadata": {},
     "output_type": "execute_result"
    }
   ],
   "source": [
    "B.sum()  # summing all the elements"
   ]
  },
  {
   "cell_type": "code",
   "execution_count": 246,
   "id": "7881742e",
   "metadata": {},
   "outputs": [
    {
     "data": {
      "text/plain": [
       "tensor(0)"
      ]
     },
     "execution_count": 246,
     "metadata": {},
     "output_type": "execute_result"
    }
   ],
   "source": [
    "B.prod()  # product of all the elements"
   ]
  },
  {
   "cell_type": "code",
   "execution_count": 253,
   "id": "f36bc3b7",
   "metadata": {},
   "outputs": [
    {
     "data": {
      "text/plain": [
       "tensor([ 0, 15])"
      ]
     },
     "execution_count": 253,
     "metadata": {},
     "output_type": "execute_result"
    }
   ],
   "source": [
    "B.prod(0)  # product along the rows"
   ]
  },
  {
   "cell_type": "code",
   "execution_count": 252,
   "id": "eededb76",
   "metadata": {},
   "outputs": [
    {
     "data": {
      "text/plain": [
       "tensor([ 0,  6, 20])"
      ]
     },
     "execution_count": 252,
     "metadata": {},
     "output_type": "execute_result"
    }
   ],
   "source": [
    "B.prod(1)  # product along the columns"
   ]
  },
  {
   "cell_type": "markdown",
   "id": "d67afee8",
   "metadata": {},
   "source": [
    "# Eigenvalues and eigenvectors"
   ]
  },
  {
   "cell_type": "code",
   "execution_count": 323,
   "id": "345af770",
   "metadata": {},
   "outputs": [
    {
     "data": {
      "text/plain": [
       "tensor([[0.0257, 0.6559, 0.6388],\n",
       "        [0.6559, 0.9395, 0.4403],\n",
       "        [0.6388, 0.4403, 0.0685]])"
      ]
     },
     "execution_count": 323,
     "metadata": {},
     "output_type": "execute_result"
    }
   ],
   "source": [
    "A = torch.rand(3, 3)\n",
    "A = (A + A.T) / 2  # symmetrize\n",
    "A"
   ]
  },
  {
   "cell_type": "code",
   "execution_count": 274,
   "id": "2b2bac32",
   "metadata": {},
   "outputs": [
    {
     "data": {
      "text/plain": [
       "tensor([[1.5927, 0.0000],\n",
       "        [0.2797, 0.0000],\n",
       "        [0.0465, 0.0000]])"
      ]
     },
     "execution_count": 274,
     "metadata": {},
     "output_type": "execute_result"
    }
   ],
   "source": [
    "D, _ = A.eig()  # eigenvalues\n",
    "D  # contains 2 columns: Re, Img"
   ]
  },
  {
   "cell_type": "code",
   "execution_count": 279,
   "id": "6d52470f",
   "metadata": {},
   "outputs": [],
   "source": [
    "D, V = A.eig(eigenvectors=True)  # eigenvalues and eigenvectors"
   ]
  },
  {
   "cell_type": "code",
   "execution_count": 280,
   "id": "ceb852b6",
   "metadata": {},
   "outputs": [
    {
     "data": {
      "text/plain": [
       "tensor([1.5927+0.j, 0.2797+0.j, 0.0465+0.j])"
      ]
     },
     "execution_count": 280,
     "metadata": {},
     "output_type": "execute_result"
    }
   ],
   "source": [
    "D[:,0] + 1j*D[:,1]"
   ]
  },
  {
   "cell_type": "code",
   "execution_count": 278,
   "id": "aeb52603",
   "metadata": {},
   "outputs": [
    {
     "data": {
      "text/plain": [
       "tensor([[ 0.7344,  0.6548, -0.1784],\n",
       "        [ 0.5144, -0.7085, -0.4832],\n",
       "        [ 0.4428, -0.2631,  0.8571]])"
      ]
     },
     "execution_count": 278,
     "metadata": {},
     "output_type": "execute_result"
    }
   ],
   "source": [
    "V"
   ]
  },
  {
   "cell_type": "code",
   "execution_count": 298,
   "id": "f394890d",
   "metadata": {},
   "outputs": [
    {
     "data": {
      "text/plain": [
       "tensor([[3.5763e-07, 1.4901e-07, 2.9802e-07],\n",
       "        [1.4901e-07, 1.7881e-07, 1.7881e-07],\n",
       "        [2.9802e-07, 1.7881e-07, 2.0862e-07]])"
      ]
     },
     "execution_count": 298,
     "metadata": {},
     "output_type": "execute_result"
    }
   ],
   "source": [
    "V @ D.sum(1).diag() @ V.T - A  # should be close to zero"
   ]
  },
  {
   "cell_type": "code",
   "execution_count": 300,
   "id": "7d091772",
   "metadata": {},
   "outputs": [
    {
     "data": {
      "text/plain": [
       "tensor([[1.0000e+00, 4.1032e-08, 8.7385e-08],\n",
       "        [4.1032e-08, 1.0000e+00, 2.3708e-07],\n",
       "        [8.7385e-08, 2.3708e-07, 1.0000e+00]])"
      ]
     },
     "execution_count": 300,
     "metadata": {},
     "output_type": "execute_result"
    }
   ],
   "source": [
    "V.T @ V  # left unitarity"
   ]
  },
  {
   "cell_type": "code",
   "execution_count": 302,
   "id": "c0baeed8",
   "metadata": {},
   "outputs": [
    {
     "data": {
      "text/plain": [
       "tensor([[ 1.0000e+00,  0.0000e+00,  2.5332e-07],\n",
       "        [ 0.0000e+00,  1.0000e+00, -8.9407e-08],\n",
       "        [ 2.5332e-07, -8.9407e-08,  1.0000e+00]])"
      ]
     },
     "execution_count": 302,
     "metadata": {},
     "output_type": "execute_result"
    }
   ],
   "source": [
    "V @ V.T  # right unitarity"
   ]
  },
  {
   "cell_type": "markdown",
   "id": "31099109",
   "metadata": {},
   "source": [
    "# Singular value decomposition"
   ]
  },
  {
   "cell_type": "markdown",
   "id": "895595e3",
   "metadata": {},
   "source": [
    "## Square matrices"
   ]
  },
  {
   "cell_type": "code",
   "execution_count": 350,
   "id": "1547653d",
   "metadata": {},
   "outputs": [
    {
     "data": {
      "text/plain": [
       "tensor([[0.1216, 0.6980, 0.4132],\n",
       "        [0.8877, 0.9728, 0.5515],\n",
       "        [0.1946, 0.1867, 0.5522]])"
      ]
     },
     "execution_count": 350,
     "metadata": {},
     "output_type": "execute_result"
    }
   ],
   "source": [
    "A = torch.rand(3, 3)\n",
    "A"
   ]
  },
  {
   "cell_type": "code",
   "execution_count": 351,
   "id": "c0dee812",
   "metadata": {},
   "outputs": [],
   "source": [
    "U,S,V = A.svd()"
   ]
  },
  {
   "cell_type": "code",
   "execution_count": 352,
   "id": "c24b9031",
   "metadata": {},
   "outputs": [
    {
     "data": {
      "text/plain": [
       "tensor([1.6782, 0.4036, 0.3310])"
      ]
     },
     "execution_count": 352,
     "metadata": {},
     "output_type": "execute_result"
    }
   ],
   "source": [
    "S"
   ]
  },
  {
   "cell_type": "code",
   "execution_count": 353,
   "id": "fe1f176b",
   "metadata": {},
   "outputs": [
    {
     "data": {
      "text/plain": [
       "tensor([[-1.6391e-07, -1.1921e-07, -8.9407e-08],\n",
       "        [-2.9802e-07, -4.1723e-07, -1.7881e-07],\n",
       "        [-7.4506e-08, -1.0431e-07,  0.0000e+00]])"
      ]
     },
     "execution_count": 353,
     "metadata": {},
     "output_type": "execute_result"
    }
   ],
   "source": [
    "U @ S.diag() @ V.T - A  # should be zero up to numerical precision"
   ]
  },
  {
   "cell_type": "code",
   "execution_count": 354,
   "id": "fe85b7cd",
   "metadata": {},
   "outputs": [
    {
     "data": {
      "text/plain": [
       "tensor([[ 1.0000e+00, -5.9908e-08,  4.0297e-08],\n",
       "        [-5.9908e-08,  1.0000e+00, -1.0296e-08],\n",
       "        [ 4.0297e-08, -1.0296e-08,  1.0000e+00]])"
      ]
     },
     "execution_count": 354,
     "metadata": {},
     "output_type": "execute_result"
    }
   ],
   "source": [
    "U @ U.T  # identity"
   ]
  },
  {
   "cell_type": "code",
   "execution_count": 355,
   "id": "6c9ca36b",
   "metadata": {},
   "outputs": [
    {
     "data": {
      "text/plain": [
       "tensor([[ 1.0000e+00,  8.9407e-08, -2.9802e-08],\n",
       "        [ 8.9407e-08,  1.0000e+00, -5.9605e-08],\n",
       "        [-2.9802e-08, -5.9605e-08,  1.0000e+00]])"
      ]
     },
     "execution_count": 355,
     "metadata": {},
     "output_type": "execute_result"
    }
   ],
   "source": [
    "U.T @ U"
   ]
  },
  {
   "cell_type": "code",
   "execution_count": 356,
   "id": "b4f92d3a",
   "metadata": {},
   "outputs": [
    {
     "data": {
      "text/plain": [
       "tensor([[ 1.0000e+00, -1.1921e-07, -1.4901e-08],\n",
       "        [-1.1921e-07,  1.0000e+00, -2.9802e-08],\n",
       "        [-1.4901e-08, -2.9802e-08,  1.0000e+00]])"
      ]
     },
     "execution_count": 356,
     "metadata": {},
     "output_type": "execute_result"
    }
   ],
   "source": [
    "V @ V.T"
   ]
  },
  {
   "cell_type": "code",
   "execution_count": 357,
   "id": "b6fe6cbd",
   "metadata": {},
   "outputs": [
    {
     "data": {
      "text/plain": [
       "tensor([[ 1.0000e+00,  2.9046e-08, -4.6611e-08],\n",
       "        [ 2.9046e-08,  1.0000e+00, -1.8797e-08],\n",
       "        [-4.6611e-08, -1.8797e-08,  1.0000e+00]])"
      ]
     },
     "execution_count": 357,
     "metadata": {},
     "output_type": "execute_result"
    }
   ],
   "source": [
    "V.T @ V"
   ]
  },
  {
   "cell_type": "markdown",
   "id": "a7753a68",
   "metadata": {},
   "source": [
    "## Rectangular matrices"
   ]
  },
  {
   "cell_type": "code",
   "execution_count": 414,
   "id": "b31b599b",
   "metadata": {},
   "outputs": [
    {
     "data": {
      "text/plain": [
       "tensor([[0.8846, 0.7998, 0.7399],\n",
       "        [0.1341, 0.4003, 0.0178],\n",
       "        [0.3396, 0.5908, 0.5144],\n",
       "        [0.3041, 0.9777, 0.8650]])"
      ]
     },
     "execution_count": 414,
     "metadata": {},
     "output_type": "execute_result"
    }
   ],
   "source": [
    "A = torch.rand(4,3)\n",
    "A"
   ]
  },
  {
   "cell_type": "code",
   "execution_count": 459,
   "id": "12ea63a5",
   "metadata": {},
   "outputs": [],
   "source": [
    "U, S, V = A.svd(some=False)  # return non-reduced svd. \n",
    "                             # If the last two dimensions of input are m and n, \n",
    "                             # then the returned U and V matrices will contain \n",
    "                             # only min(n, m) orthonormal columns.\n",
    "                             # In the matrix is tall, the reduced case will \n",
    "                             # return non-zero singular values."
   ]
  },
  {
   "cell_type": "code",
   "execution_count": 478,
   "id": "6e4ccc87",
   "metadata": {},
   "outputs": [
    {
     "data": {
      "text/plain": [
       "tensor([[ 1.0000e+00, -4.8429e-08,  0.0000e+00, -8.9407e-08],\n",
       "        [-4.8429e-08,  1.0000e+00,  1.6764e-07,  7.4506e-08],\n",
       "        [ 0.0000e+00,  1.6764e-07,  1.0000e+00, -8.9407e-08],\n",
       "        [-8.9407e-08,  7.4506e-08, -8.9407e-08,  1.0000e+00]])"
      ]
     },
     "execution_count": 478,
     "metadata": {},
     "output_type": "execute_result"
    }
   ],
   "source": [
    "U @ U.T  # unitary"
   ]
  },
  {
   "cell_type": "code",
   "execution_count": 477,
   "id": "5b346338",
   "metadata": {},
   "outputs": [
    {
     "data": {
      "text/plain": [
       "tensor([[ 1.0000e+00,  1.7881e-07, -4.0978e-08, -4.4703e-08],\n",
       "        [ 1.7881e-07,  1.0000e+00,  7.8231e-08,  0.0000e+00],\n",
       "        [-4.0978e-08,  7.8231e-08,  1.0000e+00, -1.5832e-07],\n",
       "        [-4.4703e-08,  0.0000e+00, -1.5832e-07,  1.0000e+00]])"
      ]
     },
     "execution_count": 477,
     "metadata": {},
     "output_type": "execute_result"
    }
   ],
   "source": [
    "U.T @ U  # unitary"
   ]
  },
  {
   "cell_type": "code",
   "execution_count": 479,
   "id": "0d86032e",
   "metadata": {},
   "outputs": [
    {
     "data": {
      "text/plain": [
       "tensor([[ 1.0000e+00,  2.6077e-08,  3.7253e-08],\n",
       "        [ 2.6077e-08,  1.0000e+00, -1.4901e-07],\n",
       "        [ 3.7253e-08, -1.4901e-07,  1.0000e+00]])"
      ]
     },
     "execution_count": 479,
     "metadata": {},
     "output_type": "execute_result"
    }
   ],
   "source": [
    "V @ V.T"
   ]
  },
  {
   "cell_type": "code",
   "execution_count": 480,
   "id": "9a52df66",
   "metadata": {},
   "outputs": [
    {
     "data": {
      "text/plain": [
       "tensor([[1.0000e+00, 8.7481e-08, 3.3118e-08],\n",
       "        [8.7481e-08, 1.0000e+00, 1.6183e-09],\n",
       "        [3.3118e-08, 1.6183e-09, 1.0000e+00]])"
      ]
     },
     "execution_count": 480,
     "metadata": {},
     "output_type": "execute_result"
    }
   ],
   "source": [
    "V.T @ V"
   ]
  },
  {
   "cell_type": "code",
   "execution_count": 487,
   "id": "c6c240a4",
   "metadata": {},
   "outputs": [
    {
     "data": {
      "text/plain": [
       "tensor([[ 0.0000e+00,  0.0000e+00,  2.3842e-07],\n",
       "        [ 0.0000e+00, -5.9605e-08,  7.4506e-08],\n",
       "        [-5.9605e-08, -1.7881e-07, -5.9605e-08],\n",
       "        [ 2.9802e-08, -2.9802e-07, -1.1921e-07]])"
      ]
     },
     "execution_count": 487,
     "metadata": {},
     "output_type": "execute_result"
    }
   ],
   "source": [
    "U[:,:3] @ S.diag() @ V.T - A  # Remeber, last column of U \n",
    "                              # corresponds to singular value S=0"
   ]
  },
  {
   "cell_type": "markdown",
   "id": "3bf3db68",
   "metadata": {},
   "source": [
    "# QR decomposition"
   ]
  },
  {
   "cell_type": "code",
   "execution_count": 489,
   "id": "421b30cf",
   "metadata": {},
   "outputs": [],
   "source": [
    "A = torch.rand(4,3)"
   ]
  },
  {
   "cell_type": "code",
   "execution_count": 503,
   "id": "be4594c5",
   "metadata": {},
   "outputs": [],
   "source": [
    "Q, R = A.qr(some=False)  # A = Q*R\n",
    "                         # By default, returns reduced decomposition\n",
    "                         # unless some=False"
   ]
  },
  {
   "cell_type": "code",
   "execution_count": 504,
   "id": "930b9098",
   "metadata": {},
   "outputs": [
    {
     "data": {
      "text/plain": [
       "(tensor([[-0.5335,  0.2618, -0.2260, -0.7718],\n",
       "         [-0.1298, -0.9553, -0.1985, -0.1762],\n",
       "         [-0.3316,  0.1171, -0.7910,  0.5006],\n",
       "         [-0.7671, -0.0710,  0.5327,  0.3502]]),\n",
       " tensor([[-1.0319, -1.0586, -1.3257],\n",
       "         [ 0.0000, -0.3614, -0.2927],\n",
       "         [ 0.0000,  0.0000, -0.7184],\n",
       "         [ 0.0000,  0.0000,  0.0000]]))"
      ]
     },
     "execution_count": 504,
     "metadata": {},
     "output_type": "execute_result"
    }
   ],
   "source": [
    "Q, R"
   ]
  },
  {
   "cell_type": "code",
   "execution_count": 505,
   "id": "4198c6f0",
   "metadata": {},
   "outputs": [
    {
     "data": {
      "text/plain": [
       "tensor([[-5.9605e-08, -1.7881e-07, -2.3842e-07],\n",
       "        [ 0.0000e+00,  0.0000e+00,  0.0000e+00],\n",
       "        [ 2.9802e-08,  0.0000e+00, -5.9605e-08],\n",
       "        [ 0.0000e+00, -5.9605e-08, -1.1921e-07]])"
      ]
     },
     "execution_count": 505,
     "metadata": {},
     "output_type": "execute_result"
    }
   ],
   "source": [
    "Q @ R - A  # close to zero"
   ]
  },
  {
   "cell_type": "code",
   "execution_count": 506,
   "id": "a8813522",
   "metadata": {},
   "outputs": [
    {
     "data": {
      "text/plain": [
       "tensor([[ 1.0000e+00,  5.9605e-08, -2.9802e-08, -1.7881e-07],\n",
       "        [ 5.9605e-08,  1.0000e+00, -1.4901e-08,  4.4703e-08],\n",
       "        [-2.9802e-08, -1.4901e-08,  1.0000e+00,  2.9802e-08],\n",
       "        [-1.7881e-07,  4.4703e-08,  2.9802e-08,  1.0000e+00]])"
      ]
     },
     "execution_count": 506,
     "metadata": {},
     "output_type": "execute_result"
    }
   ],
   "source": [
    "Q.T @ Q"
   ]
  },
  {
   "cell_type": "code",
   "execution_count": 507,
   "id": "05d22507",
   "metadata": {},
   "outputs": [
    {
     "data": {
      "text/plain": [
       "tensor([[ 1.0000e+00,  1.4901e-08,  0.0000e+00, -8.9407e-08],\n",
       "        [ 1.4901e-08,  1.0000e+00, -1.4901e-08,  3.7253e-09],\n",
       "        [ 0.0000e+00, -1.4901e-08,  1.0000e+00,  1.4901e-08],\n",
       "        [-8.9407e-08,  3.7253e-09,  1.4901e-08,  1.0000e+00]])"
      ]
     },
     "execution_count": 507,
     "metadata": {},
     "output_type": "execute_result"
    }
   ],
   "source": [
    "Q @ Q.T"
   ]
  },
  {
   "cell_type": "markdown",
   "id": "0dcfcbb5",
   "metadata": {},
   "source": [
    "# Time counter"
   ]
  },
  {
   "cell_type": "code",
   "execution_count": 509,
   "id": "8b29be68",
   "metadata": {},
   "outputs": [],
   "source": [
    "from timeit import default_timer as timer"
   ]
  },
  {
   "cell_type": "code",
   "execution_count": 510,
   "id": "cc5e4b0e",
   "metadata": {},
   "outputs": [
    {
     "data": {
      "text/plain": [
       "0.0005360590002965182"
      ]
     },
     "execution_count": 510,
     "metadata": {},
     "output_type": "execute_result"
    }
   ],
   "source": [
    "start = timer()\n",
    "torch.rand(10,10)*torch.rand(10,10)\n",
    "timer() - start"
   ]
  },
  {
   "cell_type": "code",
   "execution_count": 511,
   "id": "3a2bd724",
   "metadata": {},
   "outputs": [
    {
     "data": {
      "text/plain": [
       "tensor([])"
      ]
     },
     "execution_count": 511,
     "metadata": {},
     "output_type": "execute_result"
    }
   ],
   "source": [
    "A.masked_select(A < 0.1)"
   ]
  },
  {
   "cell_type": "markdown",
   "id": "a8d476b0",
   "metadata": {},
   "source": [
    "# Logical variables and operations"
   ]
  },
  {
   "cell_type": "code",
   "execution_count": 520,
   "id": "2c166cb4",
   "metadata": {},
   "outputs": [
    {
     "data": {
      "text/plain": [
       "tensor([[0.8390, 0.8890],\n",
       "        [0.4356, 0.4605],\n",
       "        [0.9093, 0.7390]])"
      ]
     },
     "execution_count": 520,
     "metadata": {},
     "output_type": "execute_result"
    }
   ],
   "source": [
    "A = torch.rand(4,3)\n",
    "A"
   ]
  },
  {
   "cell_type": "code",
   "execution_count": 522,
   "id": "1c6ec5ab",
   "metadata": {},
   "outputs": [
    {
     "data": {
      "text/plain": [
       "tensor([[ True,  True],\n",
       "        [False, False],\n",
       "        [ True,  True]])"
      ]
     },
     "execution_count": 522,
     "metadata": {},
     "output_type": "execute_result"
    }
   ],
   "source": [
    "mask = A.ge(0.5)\n",
    "mask"
   ]
  },
  {
   "cell_type": "code",
   "execution_count": 524,
   "id": "c47feece",
   "metadata": {},
   "outputs": [
    {
     "data": {
      "text/plain": [
       "tensor([0.8390, 0.8890, 0.9093, 0.7390])"
      ]
     },
     "execution_count": 524,
     "metadata": {},
     "output_type": "execute_result"
    }
   ],
   "source": [
    "A.masked_select(mask)  # the vector of elements of A larger than 0.5"
   ]
  },
  {
   "cell_type": "code",
   "execution_count": null,
   "id": "84d15d04",
   "metadata": {},
   "outputs": [],
   "source": []
  }
 ],
 "metadata": {
  "kernelspec": {
   "display_name": "Python 3",
   "language": "python",
   "name": "python3"
  },
  "language_info": {
   "codemirror_mode": {
    "name": "ipython",
    "version": 3
   },
   "file_extension": ".py",
   "mimetype": "text/x-python",
   "name": "python",
   "nbconvert_exporter": "python",
   "pygments_lexer": "ipython3",
   "version": "3.8.2"
  }
 },
 "nbformat": 4,
 "nbformat_minor": 5
}
